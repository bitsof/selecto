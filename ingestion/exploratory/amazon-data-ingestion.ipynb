{
 "cells": [
  {
   "cell_type": "markdown",
   "metadata": {},
   "source": [
    "# Amazon Data Ingestion"
   ]
  },
  {
   "cell_type": "code",
   "execution_count": null,
   "metadata": {},
   "outputs": [],
   "source": [
    "import bottlenose\n",
    "import xml.etree.ElementTree as ET\n",
    "import os\n",
    "from dotenv import load_dotenv\n",
    "\n",
    "# Load environment variables from .env file\n",
    "load_dotenv()\n",
    "\n",
    "# Access the environment variables in your code\n",
    "AWS_ACCESS_KEY_ID = os.getenv('AWS_ACCESS_KEY_ID')\n",
    "AWS_SECRET_ACCESS_KEY = os.getenv('AWS_SECRET_ACCESS_KEY')\n",
    "AWS_ASSOCIATE_TAG = os.getenv('AWS_ASSOCIATE_TAG')\n",
    "\n",
    "# Set up your API credentials\n",
    "amazon = bottlenose.Amazon(\n",
    "    AWS_ACCESS_KEY_ID,\n",
    "    AWS_SECRET_ACCESS_KEY,\n",
    "    AWS_ASSOCIATE_TAG,\n",
    "    Region='US'\n",
    ")\n",
    "\n",
    "# Specify the product ID and the number of reviews to retrieve\n",
    "product_id = 'B07K6ZGMJ6'\n",
    "review_count = '10'\n",
    "\n",
    "# Use the ItemLookup API operation to retrieve the reviews for the product\n",
    "response = amazon.ItemLookup(\n",
    "    ItemId=product_id,\n",
    "    IncludeReviewsSummary=False,\n",
    "    TruncateReviewsAt=review_count,\n",
    "    ResponseGroup='Reviews'\n",
    ")\n",
    "\n",
    "# Parse the XML response from the API and extract the review text\n",
    "root = ET.fromstring(response)\n",
    "reviews = []\n",
    "for review in root.iter('Content'):\n",
    "    reviews.append(review.text)\n",
    "\n",
    "# Print the reviews\n",
    "for review in reviews:\n",
    "    print(review)"
   ]
  },
  {
   "cell_type": "code",
   "execution_count": null,
   "metadata": {},
   "outputs": [],
   "source": []
  }
 ],
 "metadata": {
  "kernelspec": {
   "display_name": "scelecto-website",
   "language": "python",
   "name": "python3"
  },
  "language_info": {
   "codemirror_mode": {
    "name": "ipython",
    "version": 3
   },
   "file_extension": ".py",
   "mimetype": "text/x-python",
   "name": "python",
   "nbconvert_exporter": "python",
   "pygments_lexer": "ipython3",
   "version": "3.9.7"
  },
  "orig_nbformat": 4
 },
 "nbformat": 4,
 "nbformat_minor": 2
}
